{
 "cells": [
  {
   "cell_type": "code",
   "execution_count": 1,
   "metadata": {},
   "outputs": [
    {
     "name": "stderr",
     "output_type": "stream",
     "text": [
      "Using TensorFlow backend.\n"
     ]
    }
   ],
   "source": [
    "import BackEnd as be\n",
    "import numpy as np"
   ]
  },
  {
   "cell_type": "code",
   "execution_count": 2,
   "metadata": {},
   "outputs": [
    {
     "name": "stdout",
     "output_type": "stream",
     "text": [
      "Do you want to use one of the pre-existing summaries?[Y,N] y\n",
      "\n",
      "\n",
      "choose a discharge summary number from 1 to 100. 2\n",
      "\n",
      "\n",
      "The disease list is going to be printed shortly: \n",
      "\n",
      "\n",
      "['hydrocephalus', 'she', 'aspirin', 'were', 'floor', 'atelectasis', 'movements', 'or', 'exam', 'dr', 'placement', 'the', 'extubation', 'headache', 'jugular', 'negative', 'lorazepam', 'tracheomalacia', 'follow', 'history', 'lobe', 'medications', 'acetaminophen', 'treatments', 'noncontributory', 'emphysema', 'of', 'prn', 'changes', 'infection', 'inhaled', 'depression', 'midline', 'hypertension', 'mg', 'cva', 'copd', 'flow', 'accommodation', 'mcg', 'iv', 'mi', 'depressed', 'as', 'course', 'day', 'pneumonia', 'discharge', 'hypothyroidism', 'restrictive', 'cognition', 'mucosal', 'nebulizer', 'on', 'lozenges', 'dysphagia', 'final', 'units', 'ml']\n"
     ]
    }
   ],
   "source": [
    "# Prompting users and recieving the Discharge Summary in order to process and get back the list\n",
    "# of diseases to the user.\n",
    "summary=[]\n",
    "ans = input(\"Do you want to use one of the pre-existing summaries?[Y,N] \")\n",
    "print('\\n')\n",
    "num = 0\n",
    "DS = np.load(\"Discharge_Summaries.npy\")\n",
    "if(ans.lower()=='y'):\n",
    "    num = int(input(\"choose a discharge summary number from 1 to 100. \"))\n",
    "    print('\\n')\n",
    "    num-=1\n",
    "    summary=[DS[num]]\n",
    "    \n",
    "else:\n",
    "    summary = [input(\"Please type in the string you want to be analyzed: \")]\n",
    "print(\"The disease list is going to be printed shortly: \\n\\n\")\n",
    "a,b,d= be.predict(discharge=summary)\n",
    "list_of_sentneces = b\n",
    "diseases_found = list()\n",
    "for i in list(set(d)):  \n",
    "    if(i != 0.0 and not i.isdecimal() and not i[0].isdecimal()):\n",
    "        diseases_found += [i]\n",
    "print(diseases_found)"
   ]
  },
  {
   "cell_type": "code",
   "execution_count": null,
   "metadata": {},
   "outputs": [],
   "source": []
  }
 ],
 "metadata": {
  "kernelspec": {
   "display_name": "Python 3",
   "language": "python",
   "name": "python3"
  },
  "language_info": {
   "codemirror_mode": {
    "name": "ipython",
    "version": 3
   },
   "file_extension": ".py",
   "mimetype": "text/x-python",
   "name": "python",
   "nbconvert_exporter": "python",
   "pygments_lexer": "ipython3",
   "version": "3.6.4"
  }
 },
 "nbformat": 4,
 "nbformat_minor": 2
}
